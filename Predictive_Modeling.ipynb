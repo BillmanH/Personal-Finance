{
 "metadata": {
  "name": "",
  "signature": "sha256:cd232ff440d8ff9b14c9dae32e6864751c7135f2e56ae30d8d9ef992a90f38ab"
 },
 "nbformat": 3,
 "nbformat_minor": 0,
 "worksheets": [
  {
   "cells": [
    {
     "cell_type": "heading",
     "level": 1,
     "metadata": {},
     "source": [
      "Using scykit-learn to guess what I'm doing:"
     ]
    },
    {
     "cell_type": "heading",
     "level": 4,
     "metadata": {},
     "source": [
      "Predictive modeling with my personal finance data"
     ]
    },
    {
     "cell_type": "markdown",
     "metadata": {},
     "source": [
      "These are the packages that I used:"
     ]
    },
    {
     "cell_type": "code",
     "collapsed": false,
     "input": [
      "import pandas as pd\n",
      "import numpy as np\n",
      "from sklearn.lda import LDA\n",
      "import datetime\n",
      "import random"
     ],
     "language": "python",
     "metadata": {},
     "outputs": [],
     "prompt_number": 14
    },
    {
     "cell_type": "markdown",
     "metadata": {},
     "source": [
      "Loading the data:"
     ]
    },
    {
     "cell_type": "code",
     "collapsed": false,
     "input": [
      "#specify my working directory:\n",
      "path = \"C:\\mycomputer\\Bill\\{}\"\n",
      "#I put it in this way so that I could just add CSV files as they come in. \n",
      "myfiles = [\"transactions2014.csv\",\n",
      "         \"transactions2015.csv\"]\n",
      "frames = [pd.read_csv(path.format(x)) for x in myfiles]\n",
      "df = pd.concat(frames)"
     ],
     "language": "python",
     "metadata": {},
     "outputs": [],
     "prompt_number": 2
    },
    {
     "cell_type": "markdown",
     "metadata": {},
     "source": [
      "Some quick cleaning:"
     ]
    },
    {
     "cell_type": "code",
     "collapsed": false,
     "input": [
      "keep_cats = ['Arts&Crafts', 'Coffee', 'Eating at Home', 'Eating out', 'Education', 'Gaming', 'Grocery',\n",
      "       'Lunch', 'Moving', 'Music', 'Out for drinks', 'Out of town',\n",
      "       'Technology', 'Transportation', 'Uncategorized']\n",
      "df['filters'] = df['Category'].apply(lambda x: x in keep_cats)\n",
      "df = df[df['filters']]\n",
      "df = df.dropna().reset_index(drop=True)"
     ],
     "language": "python",
     "metadata": {},
     "outputs": [],
     "prompt_number": 4
    },
    {
     "cell_type": "code",
     "collapsed": false,
     "input": [
      "df.head()"
     ],
     "language": "python",
     "metadata": {},
     "outputs": [
      {
       "html": [
        "<div style=\"max-height:1000px;max-width:1500px;overflow:auto;\">\n",
        "<table border=\"1\" class=\"dataframe\">\n",
        "  <thead>\n",
        "    <tr style=\"text-align: right;\">\n",
        "      <th></th>\n",
        "      <th>Date of pull</th>\n",
        "      <th>Unique mail id</th>\n",
        "      <th>Reciept text</th>\n",
        "      <th>Date</th>\n",
        "      <th>Amount</th>\n",
        "      <th>Time EST</th>\n",
        "      <th>Month</th>\n",
        "      <th>Day</th>\n",
        "      <th>Hour</th>\n",
        "      <th>Category</th>\n",
        "      <th>filters</th>\n",
        "    </tr>\n",
        "  </thead>\n",
        "  <tbody>\n",
        "    <tr>\n",
        "      <th>0</th>\n",
        "      <td> 7/10/14</td>\n",
        "      <td> 1471cefe61af52ac</td>\n",
        "      <td> PACIFIC SUPPLY CO...</td>\n",
        "      <td> 41829</td>\n",
        "      <td> 18.51</td>\n",
        "      <td>  0.7104861</td>\n",
        "      <td> 7</td>\n",
        "      <td> 9</td>\n",
        "      <td> 17</td>\n",
        "      <td>    Arts&amp;Crafts</td>\n",
        "      <td> True</td>\n",
        "    </tr>\n",
        "    <tr>\n",
        "      <th>1</th>\n",
        "      <td> 7/10/14</td>\n",
        "      <td> 1471dd507b0c3b83</td>\n",
        "      <td>           RHINO ROOM</td>\n",
        "      <td> 41829</td>\n",
        "      <td> 10.00</td>\n",
        "      <td>  0.8842014</td>\n",
        "      <td> 7</td>\n",
        "      <td> 9</td>\n",
        "      <td> 21</td>\n",
        "      <td> Out for drinks</td>\n",
        "      <td> True</td>\n",
        "    </tr>\n",
        "    <tr>\n",
        "      <th>2</th>\n",
        "      <td> 7/10/14</td>\n",
        "      <td> 14718cb3d1bc998c</td>\n",
        "      <td>     CENTURY BALLROOM</td>\n",
        "      <td> 41828</td>\n",
        "      <td> 55.00</td>\n",
        "      <td>  0.9058912</td>\n",
        "      <td> 7</td>\n",
        "      <td> 8</td>\n",
        "      <td> 21</td>\n",
        "      <td> Out for drinks</td>\n",
        "      <td> True</td>\n",
        "    </tr>\n",
        "    <tr>\n",
        "      <th>3</th>\n",
        "      <td> 7/10/14</td>\n",
        "      <td> 1471966915ab72a3</td>\n",
        "      <td>           RHINO ROOM</td>\n",
        "      <td> 41829</td>\n",
        "      <td> 20.00</td>\n",
        "      <td> 0.02373843</td>\n",
        "      <td> 7</td>\n",
        "      <td> 9</td>\n",
        "      <td>  0</td>\n",
        "      <td> Out for drinks</td>\n",
        "      <td> True</td>\n",
        "    </tr>\n",
        "    <tr>\n",
        "      <th>4</th>\n",
        "      <td> 7/10/14</td>\n",
        "      <td> 147125097a342e9f</td>\n",
        "      <td>     KOHL&amp;#39;S #1053</td>\n",
        "      <td> 41827</td>\n",
        "      <td> 29.99</td>\n",
        "      <td>  0.6478125</td>\n",
        "      <td> 7</td>\n",
        "      <td> 7</td>\n",
        "      <td> 15</td>\n",
        "      <td>    Arts&amp;Crafts</td>\n",
        "      <td> True</td>\n",
        "    </tr>\n",
        "  </tbody>\n",
        "</table>\n",
        "</div>"
       ],
       "metadata": {},
       "output_type": "pyout",
       "prompt_number": 5,
       "text": [
        "  Date of pull    Unique mail id          Reciept text   Date  Amount  \\\n",
        "0      7/10/14  1471cefe61af52ac  PACIFIC SUPPLY CO...  41829   18.51   \n",
        "1      7/10/14  1471dd507b0c3b83            RHINO ROOM  41829   10.00   \n",
        "2      7/10/14  14718cb3d1bc998c      CENTURY BALLROOM  41828   55.00   \n",
        "3      7/10/14  1471966915ab72a3            RHINO ROOM  41829   20.00   \n",
        "4      7/10/14  147125097a342e9f      KOHL&#39;S #1053  41827   29.99   \n",
        "\n",
        "     Time EST  Month  Day  Hour        Category filters  \n",
        "0   0.7104861      7    9    17     Arts&Crafts    True  \n",
        "1   0.8842014      7    9    21  Out for drinks    True  \n",
        "2   0.9058912      7    8    21  Out for drinks    True  \n",
        "3  0.02373843      7    9     0  Out for drinks    True  \n",
        "4   0.6478125      7    7    15     Arts&Crafts    True  "
       ]
      }
     ],
     "prompt_number": 5
    },
    {
     "cell_type": "markdown",
     "metadata": {},
     "source": [
      "Adding a day of the week:"
     ]
    },
    {
     "cell_type": "code",
     "collapsed": false,
     "input": [
      "def get_day_of_week(x):\n",
      "    try:\n",
      "        mydate = datetime.datetime.strptime(x, '%m/%d/%Y')\n",
      "    except:\n",
      "        #I was inconsistent with my datestrings\n",
      "        #Why didn't I just use ISO format!\n",
      "        mydate = datetime.datetime.strptime(x, '%m/%d/%y')\n",
      "    return mydate.strftime('%A')\n",
      "\n",
      "df['dayOfWeek'] = df['Date of pull'].apply(lambda x: get_day_of_week(x))"
     ],
     "language": "python",
     "metadata": {},
     "outputs": [],
     "prompt_number": 6
    },
    {
     "cell_type": "markdown",
     "metadata": {},
     "source": [
      "Then I'm using the \"distance from Saturday\" as a proxy for catagorical value"
     ]
    },
    {
     "cell_type": "code",
     "collapsed": false,
     "input": [
      "def dist_from_sat(x):\n",
      "    myvalues = {'Friday' :1,\n",
      "                'Monday':2,\n",
      "                'Saturday':0, \n",
      "                'Sunday':1, \n",
      "                'Thursday':2,\n",
      "                'Tuesday':3,\n",
      "                'Wednesday':3}\n",
      "    return myvalues[x]\n",
      "df['distFromSat'] = df['dayOfWeek'].apply(lambda x: dist_from_sat(x))"
     ],
     "language": "python",
     "metadata": {},
     "outputs": [],
     "prompt_number": 8
    },
    {
     "cell_type": "code",
     "collapsed": false,
     "input": [
      "df[['distFromSat','dayOfWeek']].ix[random.sample(df.index, 10)]"
     ],
     "language": "python",
     "metadata": {},
     "outputs": [
      {
       "html": [
        "<div style=\"max-height:1000px;max-width:1500px;overflow:auto;\">\n",
        "<table border=\"1\" class=\"dataframe\">\n",
        "  <thead>\n",
        "    <tr style=\"text-align: right;\">\n",
        "      <th></th>\n",
        "      <th>distFromSat</th>\n",
        "      <th>dayOfWeek</th>\n",
        "    </tr>\n",
        "  </thead>\n",
        "  <tbody>\n",
        "    <tr>\n",
        "      <th>842</th>\n",
        "      <td> 1</td>\n",
        "      <td>    Sunday</td>\n",
        "    </tr>\n",
        "    <tr>\n",
        "      <th>829</th>\n",
        "      <td> 2</td>\n",
        "      <td>  Thursday</td>\n",
        "    </tr>\n",
        "    <tr>\n",
        "      <th>805</th>\n",
        "      <td> 3</td>\n",
        "      <td> Wednesday</td>\n",
        "    </tr>\n",
        "    <tr>\n",
        "      <th>952</th>\n",
        "      <td> 1</td>\n",
        "      <td>    Friday</td>\n",
        "    </tr>\n",
        "    <tr>\n",
        "      <th>237</th>\n",
        "      <td> 1</td>\n",
        "      <td>    Friday</td>\n",
        "    </tr>\n",
        "    <tr>\n",
        "      <th>271</th>\n",
        "      <td> 2</td>\n",
        "      <td>    Monday</td>\n",
        "    </tr>\n",
        "    <tr>\n",
        "      <th>6  </th>\n",
        "      <td> 2</td>\n",
        "      <td>  Thursday</td>\n",
        "    </tr>\n",
        "    <tr>\n",
        "      <th>835</th>\n",
        "      <td> 0</td>\n",
        "      <td>  Saturday</td>\n",
        "    </tr>\n",
        "    <tr>\n",
        "      <th>847</th>\n",
        "      <td> 3</td>\n",
        "      <td>   Tuesday</td>\n",
        "    </tr>\n",
        "    <tr>\n",
        "      <th>633</th>\n",
        "      <td> 2</td>\n",
        "      <td>  Thursday</td>\n",
        "    </tr>\n",
        "  </tbody>\n",
        "</table>\n",
        "</div>"
       ],
       "metadata": {},
       "output_type": "pyout",
       "prompt_number": 15,
       "text": [
        "     distFromSat  dayOfWeek\n",
        "842            1     Sunday\n",
        "829            2   Thursday\n",
        "805            3  Wednesday\n",
        "952            1     Friday\n",
        "237            1     Friday\n",
        "271            2     Monday\n",
        "6              2   Thursday\n",
        "835            0   Saturday\n",
        "847            3    Tuesday\n",
        "633            2   Thursday"
       ]
      }
     ],
     "prompt_number": 15
    },
    {
     "cell_type": "markdown",
     "metadata": {},
     "source": [
      "Transform for my model:"
     ]
    },
    {
     "cell_type": "code",
     "collapsed": false,
     "input": [
      "X = df.loc[:,['distFromSat','Hour','Amount']].values\n",
      "y = df.loc[:,'Category'].values"
     ],
     "language": "python",
     "metadata": {},
     "outputs": [],
     "prompt_number": 16
    },
    {
     "cell_type": "markdown",
     "metadata": {},
     "source": [
      "Now I can run my model:"
     ]
    },
    {
     "cell_type": "code",
     "collapsed": false,
     "input": [
      "clf = LDA()\n",
      "clf.fit(X, y)"
     ],
     "language": "python",
     "metadata": {},
     "outputs": [
      {
       "metadata": {},
       "output_type": "pyout",
       "prompt_number": 17,
       "text": [
        "LDA(n_components=None, priors=None)"
       ]
      }
     ],
     "prompt_number": 17
    },
    {
     "cell_type": "markdown",
     "metadata": {},
     "source": [
      "Now see if my model has any validity:"
     ]
    },
    {
     "cell_type": "code",
     "collapsed": false,
     "input": [
      "df['predictions'] = clf.predict(X)\n",
      "accuracy_of_model = len(df[df['predictions'] == df['Category']])/(len(df)*1.)\n",
      "accuracy_of_random_guess = 1./len(np.unique(y))"
     ],
     "language": "python",
     "metadata": {},
     "outputs": [],
     "prompt_number": 19
    },
    {
     "cell_type": "code",
     "collapsed": false,
     "input": [
      "accuracy_of_model"
     ],
     "language": "python",
     "metadata": {},
     "outputs": [
      {
       "metadata": {},
       "output_type": "pyout",
       "prompt_number": 20,
       "text": [
        "0.28330206378986866"
       ]
      }
     ],
     "prompt_number": 20
    },
    {
     "cell_type": "code",
     "collapsed": false,
     "input": [
      "accuracy_of_random_guess"
     ],
     "language": "python",
     "metadata": {},
     "outputs": [
      {
       "metadata": {},
       "output_type": "pyout",
       "prompt_number": 21,
       "text": [
        "0.07142857142857142"
       ]
      }
     ],
     "prompt_number": 21
    },
    {
     "cell_type": "markdown",
     "metadata": {},
     "source": [
      "Acurate almost a third of the time. That's not bad considering the number of catagories. I can't wait to train it over current data to see how able it is to predict what I am going to do going forward."
     ]
    }
   ],
   "metadata": {}
  }
 ]
}
